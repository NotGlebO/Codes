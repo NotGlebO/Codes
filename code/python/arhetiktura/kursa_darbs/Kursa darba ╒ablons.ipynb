{
 "cells": [
  {
   "cell_type": "markdown",
   "metadata": {},
   "source": [
    "# <center> \"Kursa darba tēmas nosaukums\" </center>\n",
    "\n",
    "<div style=\"text-align: right\"> \n",
    "        vārds, uzvārds <br>\n",
    "        kurss, grupas numurs <br>\n",
    "        studentu apliecības numurs <br>\n",
    "</div>"
   ]
  },
  {
   "cell_type": "markdown",
   "metadata": {},
   "source": [
    "### Kursa darba teorētiskā daļa  "
   ]
  },
  {
   "cell_type": "markdown",
   "metadata": {},
   "source": [
    "<hr><b>Uzdevuma nostādne:</b><br><br>\n",
    "\n",
    "{Lūdzu šajā sadaļā ievietojiet attiecīgo uzdevuma nostādni par savu kursa darba variantu} \n",
    "\n",
    "    \n",
    "<hr>"
   ]
  },
  {
   "cell_type": "markdown",
   "metadata": {},
   "source": [
    "<hr><b>Tēmas teorētiskais apraksts</b><br><br>\n",
    "\n",
    "{Lūdzu šajā sadaļā ievietojiet attiecīgā uzdevuma teorētisko aprakstu}\n",
    "\n",
    "    \n",
    "<hr>"
   ]
  },
  {
   "cell_type": "markdown",
   "metadata": {},
   "source": [
    "<hr><b>Izmantotās Python bibliotēkas</b><br><br>\n",
    "\n",
    "{Lūdzu šajā sadaļā aprakstīt darba izstrādes laikā izmantotās Python bibliotēkas un to izmantošanas pamatojumu}\n",
    "\n",
    "    \n",
    "<hr>"
   ]
  },
  {
   "cell_type": "markdown",
   "metadata": {},
   "source": [
    "<hr><b>Izmantotie avoti</b><br><br>\n",
    "\n",
    "{Lūdzu šajā sadaļā aprakstīt citus izmantotus avotus: GitHub repozitorijus, grāmatu nodaļas, blogus, publikācijas utt.}\n",
    "\n",
    "    \n",
    "<hr>"
   ]
  },
  {
   "cell_type": "markdown",
   "metadata": {},
   "source": [
    "### Kursa darba praktiskā daļa"
   ]
  },
  {
   "cell_type": "code",
   "execution_count": 4,
   "metadata": {},
   "outputs": [
    {
     "ename": "IndexError",
     "evalue": "index 2 is out of bounds for axis 0 with size 2",
     "output_type": "error",
     "traceback": [
      "\u001b[1;31m---------------------------------------------------------------------------\u001b[0m",
      "\u001b[1;31mIndexError\u001b[0m                                Traceback (most recent call last)",
      "Cell \u001b[1;32mIn[4], line 7\u001b[0m\n\u001b[0;32m      5\u001b[0m t_points \u001b[38;5;241m=\u001b[39m np\u001b[38;5;241m.\u001b[39marange(\u001b[38;5;241m0\u001b[39m, \u001b[38;5;241m1\u001b[39m, \u001b[38;5;241m0.01\u001b[39m) \u001b[38;5;66;03m#................................. Creates an iterable list from 0 to 1.\u001b[39;00m\n\u001b[0;32m      6\u001b[0m points1 \u001b[38;5;241m=\u001b[39m np\u001b[38;5;241m.\u001b[39marray([[\u001b[38;5;241m0\u001b[39m, \u001b[38;5;241m0\u001b[39m], [\u001b[38;5;241m0\u001b[39m, \u001b[38;5;241m8\u001b[39m], [\u001b[38;5;241m5\u001b[39m, \u001b[38;5;241m10\u001b[39m], [\u001b[38;5;241m9\u001b[39m, \u001b[38;5;241m7\u001b[39m], [\u001b[38;5;241m4\u001b[39m, \u001b[38;5;241m3\u001b[39m]]) \u001b[38;5;66;03m#.... Creates an array of coordinates.\u001b[39;00m\n\u001b[1;32m----> 7\u001b[0m curve1 \u001b[38;5;241m=\u001b[39m (\u001b[38;5;241m1\u001b[39m \u001b[38;5;241m-\u001b[39m t_points)\u001b[38;5;241m*\u001b[39m\u001b[38;5;241m*\u001b[39m\u001b[38;5;241m2\u001b[39m \u001b[38;5;241m*\u001b[39m points1[\u001b[38;5;241m0\u001b[39m][\u001b[38;5;241m0\u001b[39m] \u001b[38;5;241m+\u001b[39m \u001b[38;5;241m2\u001b[39m \u001b[38;5;241m*\u001b[39m (\u001b[38;5;241m1\u001b[39m \u001b[38;5;241m-\u001b[39m t_points) \u001b[38;5;241m*\u001b[39m t_points \u001b[38;5;241m*\u001b[39m  points1[\u001b[38;5;241m0\u001b[39m][\u001b[38;5;241m1\u001b[39m] \u001b[38;5;241m+\u001b[39m t_points\u001b[38;5;241m*\u001b[39m\u001b[38;5;241m*\u001b[39m\u001b[38;5;241m2\u001b[39m \u001b[38;5;241m*\u001b[39m  \u001b[43mpoints1\u001b[49m\u001b[43m[\u001b[49m\u001b[38;5;241;43m0\u001b[39;49m\u001b[43m]\u001b[49m\u001b[43m[\u001b[49m\u001b[38;5;241;43m2\u001b[39;49m\u001b[43m]\u001b[49m \u001b[38;5;66;03m#......................... Returns an array of coordinates.\u001b[39;00m\n\u001b[0;32m      9\u001b[0m plt\u001b[38;5;241m.\u001b[39mfigure()\n\u001b[0;32m     10\u001b[0m plt\u001b[38;5;241m.\u001b[39mplot(\n\u001b[0;32m     11\u001b[0m \tcurve1[:, \u001b[38;5;241m0\u001b[39m],   \u001b[38;5;66;03m# x-coordinates.\u001b[39;00m\n\u001b[0;32m     12\u001b[0m \tcurve1[:, \u001b[38;5;241m1\u001b[39m]    \u001b[38;5;66;03m# y-coordinates.\u001b[39;00m\n\u001b[0;32m     13\u001b[0m )\n",
      "\u001b[1;31mIndexError\u001b[0m: index 2 is out of bounds for axis 0 with size 2"
     ]
    }
   ],
   "source": [
    "import matplotlib.pyplot as plt\n",
    "import numpy as np\n",
    "\n",
    "\n",
    "t_points = np.arange(0, 1, 0.01) #................................. Creates an iterable list from 0 to 1.\n",
    "points1 = np.array([[0, 0], [0, 8], [5, 10], [9, 7], [4, 3]]) #.... Creates an array of coordinates.\n",
    "curve1 = (1 - t)**2 * points1[0] + 2 * (1 - t) * t *  points1[1] + t**2 *  points1[0] #......................... Returns an array of coordinates.\n",
    "\n",
    "plt.figure()\n",
    "plt.plot(\n",
    "\tcurve1[:, 0],   # x-coordinates.\n",
    "\tcurve1[:, 1]    # y-coordinates.\n",
    ")\n",
    "plt.plot(\n",
    "\tpoints1[:, 0],  # x-coordinates.\n",
    "\tpoints1[:, 1],  # y-coordinates.\n",
    "\t'ro:'           # Styling (red, circles, dotted).\n",
    ")\n",
    "plt.grid()\n",
    "plt.show()"
   ]
  }
 ],
 "metadata": {
  "kernelspec": {
   "display_name": "Python 3",
   "language": "python",
   "name": "python3"
  },
  "language_info": {
   "codemirror_mode": {
    "name": "ipython",
    "version": 3
   },
   "file_extension": ".py",
   "mimetype": "text/x-python",
   "name": "python",
   "nbconvert_exporter": "python",
   "pygments_lexer": "ipython3",
   "version": "3.11.5"
  }
 },
 "nbformat": 4,
 "nbformat_minor": 4
}
