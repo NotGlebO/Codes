{
 "cells": [
  {
   "cell_type": "markdown",
   "metadata": {},
   "source": [
    "## <center> RĪGAS TEHNISKĀ UNIVERSITĀTE\n",
    "\n",
    "### <center>DATORZINĀTNES UN INFORMĀCIJAS TEHNOLOĢIJAS FAKULTĀTE\n",
    "\n",
    "\n",
    "### <center>Datorgrafikas un attēlu apstrādes pamati\n",
    "<br> <hr>\n",
    "#### Praktiskā darba Nr. 4\n",
    "#### Vārds, Uzvārds: Gļebs Ostapko\n",
    "#### Studenta apliecības nummurs: 231RDB186\n",
    "\n"
   ]
  },
  {
   "attachments": {
    "image.png": {
     "image/png": "[encoded data removed]"
    }
   },
   "cell_type": "markdown",
   "metadata": {},
   "source": [
    "## DARBA UZDEVUMS\n",
    "\n",
    "Balstoties uz pēdējiem 3 studentu apliecības numura cipariem, atvērt kādu brīvi izvēlētu attēlu, mērogojot attēlu tā, lai tā izmēri būtu platumā 500 pikseļi un augstumā 500 pikseļi (500,500) un iekrāsot atbilstošā attēla katru N-to pikseli uz X ass un katru M-to pikseli uz Y ass noteiktā krāsā (zaļā, sarkanā vai citā, balstoties uz variantu!) .\n",
    "\n",
    "N un M vērtības, kā arī krāsa kādā jāiekrāso atbilstošie pikseļi, ir pieejami 4.individuālā uzdevuma variantu sarakstā ORTUS vidē.\n",
    "\n",
    "![image.png](attachment:image.png)"
   ]
  },
  {
   "cell_type": "code",
   "execution_count": 1,
   "metadata": {},
   "outputs": [
    {
     "ename": "error",
     "evalue": "OpenCV(4.8.0) D:\\a\\opencv-python\\opencv-python\\opencv\\modules\\imgproc\\src\\color.cpp:182: error: (-215:Assertion failed) !_src.empty() in function 'cv::cvtColor'\n",
     "output_type": "error",
     "traceback": [
      "\u001b[1;31m---------------------------------------------------------------------------\u001b[0m",
      "\u001b[1;31merror\u001b[0m                                     Traceback (most recent call last)",
      "Cell \u001b[1;32mIn[1], line 19\u001b[0m\n\u001b[0;32m     17\u001b[0m y \u001b[38;5;241m=\u001b[39m \u001b[38;5;241m500\u001b[39m\n\u001b[0;32m     18\u001b[0m img \u001b[38;5;241m=\u001b[39m cv2\u001b[38;5;241m.\u001b[39mimread(\u001b[38;5;124m'\u001b[39m\u001b[38;5;124mbob.jpg\u001b[39m\u001b[38;5;124m'\u001b[39m)\n\u001b[1;32m---> 19\u001b[0m img_rgb \u001b[38;5;241m=\u001b[39m \u001b[43mcv2\u001b[49m\u001b[38;5;241;43m.\u001b[39;49m\u001b[43mcvtColor\u001b[49m\u001b[43m(\u001b[49m\u001b[43mimg\u001b[49m\u001b[43m,\u001b[49m\u001b[43m \u001b[49m\u001b[43mcv2\u001b[49m\u001b[38;5;241;43m.\u001b[39;49m\u001b[43mCOLOR_BGR2RGB\u001b[49m\u001b[43m)\u001b[49m \n\u001b[0;32m     21\u001b[0m img_500x500 \u001b[38;5;241m=\u001b[39m cv2\u001b[38;5;241m.\u001b[39mresize(img_rgb, (x, y))\n\u001b[0;32m     24\u001b[0m n \u001b[38;5;241m=\u001b[39m \u001b[38;5;241m1\u001b[39m\n",
      "\u001b[1;31merror\u001b[0m: OpenCV(4.8.0) D:\\a\\opencv-python\\opencv-python\\opencv\\modules\\imgproc\\src\\color.cpp:182: error: (-215:Assertion failed) !_src.empty() in function 'cv::cvtColor'\n"
     ]
    }
   ],
   "source": [
    "### Python pakotņu importēšana\n",
    "#darbības ar masīviem\n",
    "import numpy as np\n",
    "from numpy import asarray\n",
    "\n",
    "#attēlu apstrādes bibliotēkas\n",
    "import cv2\n",
    "from PIL import Image\n",
    "\n",
    "#attēlu atvēršana/parādīšana Notebook\n",
    "import matplotlib.pyplot as plt\n",
    "import matplotlib.image as mpimg\n",
    "\n",
    "\n",
    "### Attēla izmēra maiņa, mērogošana\n",
    "x = 500\n",
    "y = 500\n",
    "img = cv2.imread('bob.jpg')\n",
    "img_rgb = cv2.cvtColor(img, cv2.COLOR_BGR2RGB) \n",
    "\n",
    "img_500x500 = cv2.resize(img_rgb, (x, y))\n",
    "\n",
    "\n",
    "n = 1\n",
    "m = 1\n",
    "\n",
    "# y, x\n",
    "for i in range(x):\n",
    "    for j in range(y):\n",
    "        if n == 30 or m == 10:\n",
    "            img_500x500[j, i] = (0, 250,0)\n",
    "            if m == 10:\n",
    "                m = 0   \n",
    "        m+=1\n",
    "    if n == 30:\n",
    "        n=0\n",
    "    n+=1\n",
    "    \n",
    "        \n",
    "    \n",
    "plt.figure(figsize=(5,5))\n",
    "plt.imshow(img_500x500)\n",
    "\n"
   ]
  }
 ],
 "metadata": {
  "kernelspec": {
   "display_name": "Python 3",
   "language": "python",
   "name": "python3"
  },
  "language_info": {
   "codemirror_mode": {
    "name": "ipython",
    "version": 3
   },
   "file_extension": ".py",
   "mimetype": "text/x-python",
   "name": "python",
   "nbconvert_exporter": "python",
   "pygments_lexer": "ipython3",
   "version": "3.11.5"
  }
 },
 "nbformat": 4,
 "nbformat_minor": 2
}
